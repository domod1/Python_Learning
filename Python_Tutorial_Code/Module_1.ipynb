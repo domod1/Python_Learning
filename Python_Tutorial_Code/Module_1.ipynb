{
 "cells": [
  {
   "cell_type": "code",
   "execution_count": 26,
   "metadata": {},
   "outputs": [
    {
     "name": "stdout",
     "output_type": "stream",
     "text": [
      "24\n"
     ]
    }
   ],
   "source": [
    "x = 4\n",
    "y = 6\n",
    "z = x*y\n",
    "print(z)"
   ]
  },
  {
   "cell_type": "code",
   "execution_count": 32,
   "metadata": {},
   "outputs": [
    {
     "name": "stdout",
     "output_type": "stream",
     "text": [
      "12.56\n"
     ]
    }
   ],
   "source": [
    "pi = 3.14\n",
    "r = 2\n",
    "C_Area = (pi*r**2)\n",
    "print(C_Area)"
   ]
  },
  {
   "cell_type": "code",
   "execution_count": 63,
   "metadata": {},
   "outputs": [
    {
     "name": "stdout",
     "output_type": "stream",
     "text": [
      "iolfi and I am\n"
     ]
    }
   ],
   "source": [
    "Name = \"Dom Ciolfi\"\n",
    "Job = \"Data Analyst\"\n",
    "\n",
    "Cool_String = f\"My name is {Name} and I am a {Job}.\"\n",
    "print(Cool_String[-30:30])"
   ]
  },
  {
   "cell_type": "code",
   "execution_count": 81,
   "metadata": {},
   "outputs": [
    {
     "name": "stdout",
     "output_type": "stream",
     "text": [
      "Dog\n",
      "Cat\n",
      "Racoon\n"
     ]
    }
   ],
   "source": [
    "Phrase = \"Dog Cat Racoon\"\n",
    "print(Phrase[:3])\n",
    "print(Phrase[4:7])\n",
    "print(Phrase[-6:])"
   ]
  },
  {
   "cell_type": "code",
   "execution_count": 25,
   "metadata": {},
   "outputs": [
    {
     "name": "stdout",
     "output_type": "stream",
     "text": [
      "<class 'list'>\n",
      "['red', 'blue', 'green']\n",
      "['red', 'blue', 'green', 'purple']\n",
      "['red', 'blue', 'green', 'purple', 'turquoise', 'teal']\n",
      "['purple', 'teal']\n",
      "['red', 'blue', 'green', 'purple', 'turquoise']\n"
     ]
    }
   ],
   "source": [
    "list_1 = []\n",
    "print(type(list_1))\n",
    "colours_list = ['red','blue','green']\n",
    "print(colours_list)\n",
    "colours_list.append('purple')\n",
    "print(colours_list)\n",
    "extra_colours = ['turquoise','teal']\n",
    "colours_list.extend(extra_colours)\n",
    "print(colours_list)\n",
    "print(colours_list[3::2])\n",
    "colours_list.remove('teal')\n",
    "print(colours_list)\n"
   ]
  },
  {
   "cell_type": "code",
   "execution_count": 24,
   "metadata": {},
   "outputs": [
    {
     "name": "stdout",
     "output_type": "stream",
     "text": [
      "['Apples', 'Bananas', 'Carrots', 'Dates']\n",
      "['Apples', 'Bananas', 'Carrots', 'Dates', 'Elderberries']\n",
      "['Apples', 'Bananas', 'Carrots', 'Dates', 'Elderberries', 'Formaggio', 'Grapefruit']\n",
      "['Apples', 'Bananas', 'Carrots', 'Dates', 'Formaggio', 'Grapefruit']\n",
      "['Apples', 'Bananas', 'Carrots', 'Dates', 'Formaggio', 'Grapefruit']\n"
     ]
    }
   ],
   "source": [
    "yummy = ['Apples','Bananas','Carrots','Dates']\n",
    "print(yummy)\n",
    "yummy.append('Elderberries')\n",
    "print(yummy)\n",
    "yummy_2 = ['Formaggio','Grapefruit']\n",
    "yummy.extend(yummy_2)\n",
    "print(yummy)\n",
    "yummy.remove('Elderberries')\n",
    "print(yummy)\n",
    "\n",
    "yummy_sorted = sorted(yummy)\n",
    "print(yummy_sorted)"
   ]
  },
  {
   "cell_type": "code",
   "execution_count": 17,
   "metadata": {},
   "outputs": [
    {
     "name": "stdout",
     "output_type": "stream",
     "text": [
      "[6, 5, 4, 3, 2, 2, 1]\n",
      "[2, 3, 3, 4, 5]\n",
      "['amber', 'blue', 'green', 'red']\n"
     ]
    }
   ],
   "source": [
    "numbers_list = [2,5,6,3,4,2,1]\n",
    "numbers_list.sort(reverse=True)\n",
    "print(numbers_list)\n",
    "\n",
    "sorted_list = sorted([3,2,3,4,5])\n",
    "print(sorted_list)\n",
    "\n",
    "colours_list =['red','blue','green','amber']\n",
    "sorted_colours = sorted(colours_list)\n",
    "print(sorted_colours)"
   ]
  },
  {
   "cell_type": "code",
   "execution_count": 34,
   "metadata": {},
   "outputs": [
    {
     "name": "stdout",
     "output_type": "stream",
     "text": [
      "{'Will': 'Teal', 'Andy': ['purple', 'green', 'azure'], 'Annie': {'Mondays': 'Red', 'Sundays': 'Orange', 'Other Days': 'Black'}}\n",
      "['Will', 'Andy', 'Annie']\n",
      "dict_items([('Will', 'Teal'), ('Andy', ['purple', 'green', 'azure']), ('Annie', {'Mondays': 'Red', 'Sundays': 'Orange', 'Other Days': 'Black'})])\n",
      "dict_keys(['Will', 'Andy', 'Annie'])\n",
      "dict_values(['Teal', ['purple', 'green', 'azure'], {'Mondays': 'Red', 'Sundays': 'Orange', 'Other Days': 'Black'}])\n"
     ]
    }
   ],
   "source": [
    "favourite_colours = {'Will':'Teal','Andy':['purple','green','azure'],'Annie':{'Mondays':'Red','Sundays':'Orange','Other Days':'Black'}}\n",
    "print(favourite_colours)\n",
    "print(list(favourite_colours))\n",
    "print(favourite_colours.items())\n",
    "print(favourite_colours.keys())\n",
    "print(favourite_colours.values())\n"
   ]
  },
  {
   "cell_type": "code",
   "execution_count": 42,
   "metadata": {},
   "outputs": [
    {
     "name": "stdout",
     "output_type": "stream",
     "text": [
      "{'Mcdonalds': 'Bigmac', 'Burger King': ['Whopper', 'Burger King Fries']}\n",
      "dict_items([('Mcdonalds', 'Bigmac'), ('Burger King', ['Whopper', 'Burger King Fries'])])\n",
      "dict_keys(['Mcdonalds', 'Burger King'])\n",
      "dict_values(['Bigmac', ['Whopper', 'Burger King Fries']])\n",
      "['Whopper', 'Burger King Fries']\n",
      "dict_values(['Bigmac', ['Whopper', 'Burger King Fries'], ['Pizza', 'Ice Cream']])\n",
      "False\n"
     ]
    }
   ],
   "source": [
    "Restaurants = {'Mcdonalds':'Bigmac','Burger King':['Whopper','Burger King Fries']}\n",
    "print(Restaurants)\n",
    "print(Restaurants.items())\n",
    "print(Restaurants.keys())\n",
    "print(Restaurants.values())\n",
    "print(Restaurants['Burger King'])\n",
    "Restaurants['Pizza Hut'] = ['Pizza','Ice Cream']\n",
    "print(Restaurants.values())\n",
    "print('mcdonalds' in Restaurants)"
   ]
  }
 ],
 "metadata": {
  "kernelspec": {
   "display_name": "Python 3",
   "language": "python",
   "name": "python3"
  },
  "language_info": {
   "codemirror_mode": {
    "name": "ipython",
    "version": 3
   },
   "file_extension": ".py",
   "mimetype": "text/x-python",
   "name": "python",
   "nbconvert_exporter": "python",
   "pygments_lexer": "ipython3",
   "version": "3.10.13"
  }
 },
 "nbformat": 4,
 "nbformat_minor": 2
}
